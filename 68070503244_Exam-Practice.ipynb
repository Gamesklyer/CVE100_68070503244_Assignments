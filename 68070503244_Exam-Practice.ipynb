{
 "cells": [
  {
   "cell_type": "code",
   "execution_count": 22,
   "id": "f9211e6a",
   "metadata": {},
   "outputs": [],
   "source": [
    "class Car:\n",
    "    def __init__(self, model, rent_per_day, available):\n",
    "        self.model = model\n",
    "        self.rent_per_day = rent_per_day\n",
    "        self.available = True\n",
    "\n",
    "    def rent(self, days):\n",
    "        if self.available:\n",
    "            self.available = False\n",
    "            total_cost = self.rent_per_day * days\n",
    "            print(f\"Car rented. Total Cost is \", total_cost)\n",
    "        else: \n",
    "            return print(\"Car not available\")\n",
    "\n",
    "    def return_car(self):\n",
    "        self.available = True\n",
    "        print(\"Car returned\")\n",
    "\n",
    "    def display(self):\n",
    "        print(f\"Model:{self.model}, rent_per_day: {self.rent_per_day}, available: {self.available}\")\n",
    "my_car=Car(\"Honda\", 50, True)"
   ]
  },
  {
   "cell_type": "code",
   "execution_count": 23,
   "id": "e40bb850",
   "metadata": {},
   "outputs": [
    {
     "name": "stdout",
     "output_type": "stream",
     "text": [
      "Car rented. Total Cost is  250\n",
      "Model:Honda, rent_per_day: 50, available: False\n",
      "Car returned\n"
     ]
    }
   ],
   "source": [
    "my_car.rent(5)\n",
    "my_car.display()\n",
    "my_car.return_car()"
   ]
  },
  {
   "cell_type": "code",
   "execution_count": 26,
   "id": "208cf7f0",
   "metadata": {},
   "outputs": [],
   "source": [
    "class Person:\n",
    "    def __init__(self, name, age):\n",
    "        self.name = name\n",
    "        self.age = age\n",
    "    def display_info(self):\n",
    "        print(f\"Name:{self.name}, Age: {self.age}\")\n",
    "Info=Person(\"Kyi Zin\", 17)\n",
    "\n",
    "class Student(Person):\n",
    "    def __init__(self, name, age):\n",
    "        super().__init__(name, age)\n",
    "        self.marks = {}\n",
    "    def add_mark(self, subject, score):\n",
    "        self.subject = subject\n",
    "        self.score = score\n",
    "        if subject not in self.marks:\n",
    "            self.marks[subject] = score\n",
    "            print(f\"Added {subject} with score {score}\")\n",
    "        else:\n",
    "            old_score = self.marks[subject]\n",
    "            self.marks[subject] = score \n",
    "            print(f\"Updated {subject} score from {old_score} to {score}\")\n",
    "    def display_marks(self):   \n",
    "        for subject, score in self.marks.items():\n",
    "            print(f\"{subject}: {score}\")   \n",
    "    def average_score(self):\n",
    "        if self.marks:\n",
    "            average = sum(self.marks.values()) / len(self.marks)\n",
    "            print(f\"Average Score: {average}\")\n",
    "        else:\n",
    "            print(\"No marks available.\")\n",
    "            return 0"
   ]
  },
  {
   "cell_type": "code",
   "execution_count": 27,
   "id": "534e9ea9",
   "metadata": {},
   "outputs": [
    {
     "name": "stdout",
     "output_type": "stream",
     "text": [
      "Name:Kyi Zin, Age: 17\n",
      "Added Math with score 90\n",
      "Added Science with score 85\n",
      "Updated Math score from 90 to 95\n",
      "Math: 95\n",
      "Science: 85\n",
      "Average Score: 90.0\n"
     ]
    }
   ],
   "source": [
    "\n",
    "student=Student(\"Kyi Zin\", 17)\n",
    "student.display_info()\n",
    "student.add_mark(\"Math\", 90)\n",
    "student.add_mark(\"Science\", 85)\n",
    "student.add_mark(\"Math\", 95)\n",
    "student.display_marks()\n",
    "student.average_score()\n"
   ]
  }
 ],
 "metadata": {
  "kernelspec": {
   "display_name": "Python 3",
   "language": "python",
   "name": "python3"
  },
  "language_info": {
   "codemirror_mode": {
    "name": "ipython",
    "version": 3
   },
   "file_extension": ".py",
   "mimetype": "text/x-python",
   "name": "python",
   "nbconvert_exporter": "python",
   "pygments_lexer": "ipython3",
   "version": "3.11.9"
  }
 },
 "nbformat": 4,
 "nbformat_minor": 5
}
