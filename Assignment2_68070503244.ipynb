{
 "cells": [
  {
   "cell_type": "markdown",
   "metadata": {},
   "source": [
    "#  Numbers"
   ]
  },
  {
   "cell_type": "markdown",
   "metadata": {},
   "source": [
    "Compute the number of bytes in one Gigabyte (1kb = 1024 bytes, 1mb = 1024 kb, 1gb = 1024 mb)"
   ]
  },
  {
   "cell_type": "code",
   "execution_count": 5,
   "metadata": {
    "collapsed": false
   },
   "outputs": [
    {
     "name": "stdout",
     "output_type": "stream",
     "text": [
      "1 GB = 1073741824 bytes\n"
     ]
    }
   ],
   "source": [
    "# Write your code here\n",
    "num1 = 1024\n",
    "sum = num1**3\n",
    "print(\"1 GB =\", sum, \"bytes\")\n"
   ]
  },
  {
   "cell_type": "markdown",
   "metadata": {},
   "source": [
    "You bought 500 shares of stock A at $\\$$600 on day 0 and you sold it at  $\\$$1000 on day 700.\n",
    "The daily discount rate is 0.0001%. How much profit did you make in terms of net present value.\n"
   ]
  },
  {
   "cell_type": "code",
   "execution_count": 4,
   "metadata": {
    "collapsed": false
   },
   "outputs": [
    {
     "name": "stdout",
     "output_type": "stream",
     "text": [
      "the sum is: 200000.00142842857 $$$\n"
     ]
    }
   ],
   "source": [
    "#Write your code here\n",
    "stock = 500 \n",
    "buy = 600\n",
    "sell = 1000\n",
    "day = 700\n",
    "discount = 0.0001\n",
    "init_invest = stock*buy\n",
    "final_invest = stock*sell\n",
    "factor = 1/((1+discount)*day)\n",
    "cur_value = final_invest+factor\n",
    "net_present_value = cur_value-init_invest\n",
    "print(\"the sum is:\", net_present_value, \"$$$\")"
   ]
  },
  {
   "cell_type": "markdown",
   "metadata": {},
   "source": [
    "For any value of x, create a variable called even_check that is True if x is even and False if x is odd. "
   ]
  },
  {
   "cell_type": "code",
   "execution_count": 3,
   "metadata": {
    "collapsed": false,
    "run_control": {
     "marked": true
    }
   },
   "outputs": [
    {
     "name": "stdout",
     "output_type": "stream",
     "text": [
      "True\n"
     ]
    }
   ],
   "source": [
    "#Write your code here\n",
    "x = int(input(\"Enter a number: \"))\n",
    "even_check = (x % 2 == 0)\n",
    "print(even_check)"
   ]
  },
  {
   "cell_type": "markdown",
   "metadata": {},
   "source": [
    "You have num_shirts t-shirts, num_shorts pairs of shorts and num_shoes pairs of shoes.  Create a variable called num_outfits that stores the total number of different outfits you can make."
   ]
  },
  {
   "cell_type": "code",
   "execution_count": 13,
   "metadata": {
    "collapsed": false
   },
   "outputs": [
    {
     "name": "stdout",
     "output_type": "stream",
     "text": [
      "Total no. of different outfits: 168 number of outfits\n"
     ]
    }
   ],
   "source": [
    "#Write your code here\n",
    "num_shirts = int(input(\"Enter no. of t-shirts: \"))\n",
    "num_shorts = int(input(\"Enter no. of pairs of shorts: \"))\n",
    "num_shoes = int(input(\"Enter no. of pairs of shoes: \"))\n",
    "num_outfits = num_shirts*num_shorts*num_shoes\n",
    "print(\"Total no. of different outfits:\", num_outfits, \"number of outfits\")"
   ]
  },
  {
   "cell_type": "markdown",
   "metadata": {},
   "source": [
    "# String Practice\n",
    "\n",
    "Create variable called \"name\" that stores your full name. Find whether your name has an even or odd number of letters."
   ]
  },
  {
   "cell_type": "code",
   "execution_count": 17,
   "metadata": {
    "collapsed": false
   },
   "outputs": [
    {
     "data": {
      "text/plain": [
       "13"
      ]
     },
     "execution_count": 17,
     "metadata": {},
     "output_type": "execute_result"
    }
   ],
   "source": [
    "#Write your code here\n",
    "name = 'Kyi Zin Thant'\n",
    "len(name)"
   ]
  },
  {
   "cell_type": "markdown",
   "metadata": {},
   "source": [
    "Correct the following variable so it is equal to \"spammy\""
   ]
  },
  {
   "cell_type": "code",
   "execution_count": 16,
   "metadata": {
    "collapsed": false
   },
   "outputs": [
    {
     "name": "stdout",
     "output_type": "stream",
     "text": [
      "spammy\n"
     ]
    }
   ],
   "source": [
    "#Write your code here\n",
    "s = \"spaxxy\"\n",
    "my_string = s \n",
    "new_string = my_string.replace(\"x\",\"m\",2)\n",
    "print(new_string)"
   ]
  },
  {
   "cell_type": "markdown",
   "metadata": {},
   "source": [
    "Figure out a way to slice and combine the strings s1, s2, and s3 so that the variable consec_ints = \"123456789\"."
   ]
  },
  {
   "cell_type": "code",
   "execution_count": 20,
   "metadata": {
    "collapsed": false
   },
   "outputs": [
    {
     "name": "stdout",
     "output_type": "stream",
     "text": [
      "123456789\n"
     ]
    }
   ],
   "source": [
    "from pickletools import string1\n",
    "\n",
    "\n",
    "s1 = \"12345\"\n",
    "s2 = \"34567\"\n",
    "s3 = \"789\"\n",
    "\n",
    "#Write your code here\n",
    "string1 = s1\n",
    "string2 = s2 \n",
    "string3 = s3 \n",
    "my_string = string1[0:5]+string2[3:]+string3[1:]\n",
    "print(my_string)"
   ]
  },
  {
   "cell_type": "markdown",
   "metadata": {},
   "source": [
    "#  List Practice\n",
    "\n"
   ]
  },
  {
   "cell_type": "markdown",
   "metadata": {},
   "source": [
    "Add the first and last elements of the list L. Store the result in a variable called sum_first_last. Your code should work if I change L."
   ]
  },
  {
   "cell_type": "code",
   "execution_count": 23,
   "metadata": {
    "collapsed": false
   },
   "outputs": [
    {
     "name": "stdout",
     "output_type": "stream",
     "text": [
      "The sum of the first and last no.: 72\n"
     ]
    }
   ],
   "source": [
    "L = [5,1,43,2,4,56,7,90, 67]\n",
    "\n",
    "#Write your code here\n",
    "if not L:\n",
    "    sum_first_last = 0 \n",
    "else: \n",
    "    sum_first_last = L[0] + L[-1]\n",
    "print(\"The sum of the first and last no.:\",sum_first_last)"
   ]
  },
  {
   "cell_type": "markdown",
   "metadata": {},
   "source": [
    "Slice and combine the elements of the list L in a way to print out \"spam\"."
   ]
  },
  {
   "cell_type": "code",
   "execution_count": 27,
   "metadata": {
    "collapsed": false
   },
   "outputs": [
    {
     "name": "stdout",
     "output_type": "stream",
     "text": [
      "spam\n"
     ]
    }
   ],
   "source": [
    "L = [1,\"s\", 2, 3, \"p\", \"a\", 34,1,\"m\"]\n",
    "\n",
    "\n",
    "#Write your code here\n",
    "letters = L[1:2] + L[4:6] + L[-1:]\n",
    "spam = ''.join(letters)\n",
    "print(spam)        # spam"
   ]
  },
  {
   "cell_type": "markdown",
   "metadata": {},
   "source": [
    "Create a variable called num_L which store the number represented by the list of strings in L.  For the example num_L should be 145. You may assume 3 digit numbers."
   ]
  },
  {
   "cell_type": "code",
   "execution_count": 31,
   "metadata": {
    "collapsed": false
   },
   "outputs": [
    {
     "name": "stdout",
     "output_type": "stream",
     "text": [
      "145\n"
     ]
    }
   ],
   "source": [
    "L = [\"1\",\"4\",\"5\" ]\n",
    "\n",
    "#Write you code here\n",
    "num_L = int(\"\".join(L))\n",
    "print(num_L)"
   ]
  },
  {
   "cell_type": "markdown",
   "metadata": {},
   "source": [
    "Create a list L of numbers of odd length.  Complete the following tasks:\n",
    "\n",
    " - Find the median element\n",
    " - Slice out all element indexed lower than the median element"
   ]
  },
  {
   "cell_type": "code",
   "execution_count": 32,
   "metadata": {
    "collapsed": false
   },
   "outputs": [
    {
     "name": "stdout",
     "output_type": "stream",
     "text": [
      "Median element: 2\n",
      "Elements with a lower index: [4, 5, 3]\n"
     ]
    }
   ],
   "source": [
    "L= [4,5,3,2,6,6,9]\n",
    "\n",
    "#Write your code here\n",
    "median_index = len(L)//2\n",
    "median_element = L[median_index]\n",
    "lower_elements = L[:median_index]\n",
    "print(\"Median element:\", median_element)\n",
    "print(\"Elements with a lower index:\", lower_elements)"
   ]
  }
 ],
 "metadata": {
  "kernelspec": {
   "display_name": "Python 3",
   "language": "python",
   "name": "python3"
  },
  "language_info": {
   "codemirror_mode": {
    "name": "ipython",
    "version": 3
   },
   "file_extension": ".py",
   "mimetype": "text/x-python",
   "name": "python",
   "nbconvert_exporter": "python",
   "pygments_lexer": "ipython3",
   "version": "3.13.7"
  },
  "toc": {
   "colors": {
    "hover_highlight": "#DAA520",
    "navigate_num": "#000000",
    "navigate_text": "#333333",
    "running_highlight": "#FF0000",
    "selected_highlight": "#FFD700",
    "sidebar_border": "#EEEEEE",
    "wrapper_background": "#FFFFFF"
   },
   "moveMenuLeft": true,
   "nav_menu": {
    "height": "12px",
    "width": "252px"
   },
   "navigate_menu": true,
   "number_sections": true,
   "sideBar": true,
   "skip_h1_title": false,
   "threshold": 4,
   "toc_cell": false,
   "toc_position": {},
   "toc_section_display": "block",
   "toc_window_display": false,
   "widenNotebook": false
  }
 },
 "nbformat": 4,
 "nbformat_minor": 2
}
