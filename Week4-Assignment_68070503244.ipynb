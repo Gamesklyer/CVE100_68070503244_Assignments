{
 "cells": [
  {
   "cell_type": "markdown",
   "id": "dec4f668",
   "metadata": {},
   "source": [
    "# Even and Odd\n",
    "iterate for loop from number 1 to n:\n",
    "if the number is even, print \"[number] is even\"\n",
    "otherwise, print \"[number] is odd:\n",
    "\n",
    "if n = 5 ==> expected output\n",
    "0 is even.\n",
    "1 is odd."
   ]
  },
  {
   "cell_type": "code",
   "execution_count": 25,
   "id": "f57c70a4",
   "metadata": {},
   "outputs": [
    {
     "name": "stdout",
     "output_type": "stream",
     "text": [
      "1 is odd\n",
      "2 is even\n",
      "3 is odd\n",
      "4 is even\n",
      "5 is odd\n",
      "6 is even\n",
      "7 is odd\n",
      "8 is even\n",
      "9 is odd\n"
     ]
    }
   ],
   "source": [
    "n = 10 \n",
    "for i in range (1,n):\n",
    "    if i%2 ==0:\n",
    "        print(i, \"is even\")\n",
    "    else: \n",
    "        print(i, \"is odd\")"
   ]
  },
  {
   "cell_type": "markdown",
   "id": "2e989bbe",
   "metadata": {},
   "source": [
    "Multiplication\n",
    "- define n (n = 5)\n",
    "- use a loop from 1 to 10 (the values of i is 1 to 10)\n",
    "- if the result of multiplication (num*i) is greater than 50 => print (\"The result is large\")\n",
    "- otherwise, print the actual result ==> print (\"Results=\", result)"
   ]
  },
  {
   "cell_type": "code",
   "execution_count": 56,
   "id": "845cb197",
   "metadata": {},
   "outputs": [
    {
     "name": "stdout",
     "output_type": "stream",
     "text": [
      "Results= 7\n",
      "The result is small\n",
      "Results= 14\n",
      "The result is small\n",
      "Results= 21\n",
      "The result is small\n",
      "Results= 28\n",
      "The result is small\n",
      "Results= 35\n",
      "The result is small\n",
      "Results= 42\n",
      "The result is small\n",
      "Results= 49\n",
      "The result is small\n",
      "Result= 56\n",
      "The result is large\n",
      "Result= 63\n",
      "The result is large\n",
      "Result= 70\n",
      "The result is large\n"
     ]
    }
   ],
   "source": [
    "n = 7\n",
    "for i in range (1,11):\n",
    "    num=n\n",
    "    result = num*i\n",
    "    if result >= 50:\n",
    "        print(\"Result=\", result)\n",
    "        print('The result is large')\n",
    "    else:\n",
    "        print(\"Results=\", result)\n",
    "        print('The result is small')\n"
   ]
  },
  {
   "cell_type": "markdown",
   "id": "4af07d9d",
   "metadata": {},
   "source": [
    "Skipping the speacial numbers\n",
    "\n",
    "define n\n",
    "loop numbers from 1 to n\n",
    "if the number is divisible 4 ==> skip it with continue\n",
    "if the number is greater than 20 ==> stop the loop with break\n",
    "otherwise ==> print the number"
   ]
  },
  {
   "cell_type": "code",
   "execution_count": 58,
   "id": "b4859e7c",
   "metadata": {},
   "outputs": [
    {
     "name": "stdout",
     "output_type": "stream",
     "text": [
      "1\n",
      "2\n",
      "3\n",
      "5\n",
      "6\n",
      "7\n",
      "9\n",
      "10\n",
      "11\n",
      "13\n",
      "14\n",
      "15\n",
      "17\n",
      "18\n",
      "19\n"
     ]
    }
   ],
   "source": [
    "n=50\n",
    "for i in range (1,n):\n",
    "    if i%4 == 0:\n",
    "        continue\n",
    "    if i > 20:\n",
    "        break\n",
    "    else: \n",
    "        print(i)"
   ]
  },
  {
   "cell_type": "markdown",
   "id": "aff25c6b",
   "metadata": {},
   "source": [
    "Guess the number\n",
    "The secret number is 777.\n",
    "- Ask the user to guess untill they get it right.\n",
    "- If the guess is wrong, print \"Try Again\"\n",
    "- If the guess is correct, print \"You got it\" and stop the loop."
   ]
  },
  {
   "cell_type": "code",
   "execution_count": null,
   "id": "ef13609c",
   "metadata": {},
   "outputs": [
    {
     "name": "stdout",
     "output_type": "stream",
     "text": [
      "Try Again\n",
      "You got it\n"
     ]
    }
   ],
   "source": [
    "secret = 777\n",
    "guess = int(input(\"Guess the three lucky number from 000 to 999\"))\n",
    "while secret != guess:\n",
    "    print(\"Try Again\")\n",
    "    guess = int(input(\"Guess the three lucky number from 000 to 999\"))\n",
    "print(\"You got it\")"
   ]
  },
  {
   "cell_type": "markdown",
   "id": "4067e181",
   "metadata": {},
   "source": [
    "Shopping Cart Checkout System\n",
    "\n",
    "Use initial variale total_bill=0\n",
    "Ask user to add price and add the price to total_bill.\n",
    "If total_bill>1000, print(\"Limit reached. You cannot by anymore\" and break the loop)\n",
    "Otherwise, ask user to add price  "
   ]
  },
  {
   "cell_type": "code",
   "execution_count": 121,
   "id": "455bf191",
   "metadata": {},
   "outputs": [
    {
     "name": "stdout",
     "output_type": "stream",
     "text": [
      "Limit Reached\n"
     ]
    }
   ],
   "source": [
    "total_bill = 0\n",
    "addon = int(input(\"Enter the price of the item\"))\n",
    "total_bill = addon + total_bill\n",
    "while total_bill <= 1000:\n",
    "    addon = int(input(\"Enter the price of the item\"))\n",
    "    total_bill = addon + total_bill\n",
    "print(\"Limit Reached\")"
   ]
  }
 ],
 "metadata": {
  "kernelspec": {
   "display_name": "Python 3",
   "language": "python",
   "name": "python3"
  },
  "language_info": {
   "codemirror_mode": {
    "name": "ipython",
    "version": 3
   },
   "file_extension": ".py",
   "mimetype": "text/x-python",
   "name": "python",
   "nbconvert_exporter": "python",
   "pygments_lexer": "ipython3",
   "version": "3.13.7"
  }
 },
 "nbformat": 4,
 "nbformat_minor": 5
}
